{
 "cells": [
  {
   "cell_type": "markdown",
   "id": "4a11b36e-710c-40dd-bce9-59da57023c34",
   "metadata": {},
   "source": [
    "### sintesis data money laundry"
   ]
  },
  {
   "cell_type": "code",
   "execution_count": null,
   "id": "918672d9-ece9-463b-b36d-7fd2eaf2a40e",
   "metadata": {},
   "outputs": [],
   "source": [
    "import pandas as pd\n",
    "import random\n",
    "from datetime import datetime, timedelta\n",
    "\n",
    "# Jumlah sampel transaksi\n",
    "n_samples = 1000\n",
    "\n",
    "# Membuat data simulasi\n",
    "data = {\n",
    "    \"account_id\": [random.randint(10000, 99999) for _ in range(n_samples)],\n",
    "    \"transaction_amount\": [random.randint(100000, 2000000) for _ in range(n_samples)],  # Jumlah kecil (100.000 - 2.000.000 IDR)\n",
    "    \"transaction_type\": [\"setoran\" if random.random() > 0.5 else \"penarikan\" for _ in range(n_samples)],\n",
    "    \"date\": [(datetime.now() - timedelta(days=random.randint(0, 60), hours=random.randint(0, 24), minutes=random.randint(0, 60))).strftime('%Y-%m-%d %H:%M:%S') for _ in range(n_samples)],\n",
    "    \"receiver_id\": [random.randint(10000, 99999) for _ in range(n_samples)],\n",
    "}\n",
    "\n",
    "# Membuat dataframe\n",
    "df = pd.DataFrame(data)\n",
    "\n",
    "# Menyimpan ke CSV\n",
    "df.to_csv(\"/home/dfai/project/APUChat/workspace/data/simulated_transactions.csv\", index=False)\n",
    "\n",
    "df.head()\n"
   ]
  },
  {
   "cell_type": "code",
   "execution_count": null,
   "id": "a51ffb1b-150c-4f81-8811-b4524c619bb7",
   "metadata": {},
   "outputs": [],
   "source": []
  }
 ],
 "metadata": {
  "kernelspec": {
   "display_name": "Python 3 (ipykernel)",
   "language": "python",
   "name": "python3"
  },
  "language_info": {
   "codemirror_mode": {
    "name": "ipython",
    "version": 3
   },
   "file_extension": ".py",
   "mimetype": "text/x-python",
   "name": "python",
   "nbconvert_exporter": "python",
   "pygments_lexer": "ipython3",
   "version": "3.10.11"
  }
 },
 "nbformat": 4,
 "nbformat_minor": 5
}
