{
 "cells": [
  {
   "cell_type": "code",
   "execution_count": 4,
   "id": "initial_id",
   "metadata": {
    "collapsed": true,
    "ExecuteTime": {
     "end_time": "2023-09-29T13:15:54.639273582Z",
     "start_time": "2023-09-29T13:15:54.594415204Z"
    }
   },
   "outputs": [],
   "source": [
    "from pandasai import SmartDataframe\n",
    "import polars as pl\n",
    "import pandas as pd"
   ]
  },
  {
   "cell_type": "code",
   "execution_count": 7,
   "outputs": [
    {
     "ename": "ValueError",
     "evalue": "Expected pandas DataFrame or Series, got <class 'polars.dataframe.frame.DataFrame'>.",
     "output_type": "error",
     "traceback": [
      "\u001B[0;31m---------------------------------------------------------------------------\u001B[0m",
      "\u001B[0;31mValueError\u001B[0m                                Traceback (most recent call last)",
      "Cell \u001B[0;32mIn[7], line 3\u001B[0m\n\u001B[1;32m      1\u001B[0m df \u001B[38;5;241m=\u001B[39m pl\u001B[38;5;241m.\u001B[39mread_csv(\u001B[38;5;124m\"\u001B[39m\u001B[38;5;124m~/project/APUChat/workspace/data/simulated_transactions.csv\u001B[39m\u001B[38;5;124m\"\u001B[39m)\n\u001B[1;32m      2\u001B[0m APU \u001B[38;5;241m=\u001B[39m SmartDataframe(df)\n\u001B[0;32m----> 3\u001B[0m response \u001B[38;5;241m=\u001B[39m \u001B[43mAPU\u001B[49m\u001B[38;5;241;43m.\u001B[39;49m\u001B[43mchat\u001B[49m\u001B[43m(\u001B[49m\u001B[38;5;124;43m\"\u001B[39;49m\u001B[38;5;124;43mtampilkan 10 baris pertama dari dataset\u001B[39;49m\u001B[38;5;124;43m\"\u001B[39;49m\u001B[43m)\u001B[49m\n\u001B[1;32m      4\u001B[0m response\n",
      "File \u001B[0;32m~/project/APUChat/pandasai/smart_dataframe/__init__.py:329\u001B[0m, in \u001B[0;36mSmartDataframe.chat\u001B[0;34m(self, query)\u001B[0m\n\u001B[1;32m    319\u001B[0m \u001B[38;5;28;01mdef\u001B[39;00m \u001B[38;5;21mchat\u001B[39m(\u001B[38;5;28mself\u001B[39m, query: \u001B[38;5;28mstr\u001B[39m):\n\u001B[1;32m    320\u001B[0m \u001B[38;5;250m    \u001B[39m\u001B[38;5;124;03m\"\"\"\u001B[39;00m\n\u001B[1;32m    321\u001B[0m \u001B[38;5;124;03m    Run a query on the dataframe.\u001B[39;00m\n\u001B[1;32m    322\u001B[0m \n\u001B[0;32m   (...)\u001B[0m\n\u001B[1;32m    327\u001B[0m \u001B[38;5;124;03m        ValueError: If the query is empty\u001B[39;00m\n\u001B[1;32m    328\u001B[0m \u001B[38;5;124;03m    \"\"\"\u001B[39;00m\n\u001B[0;32m--> 329\u001B[0m     \u001B[38;5;28;01mreturn\u001B[39;00m \u001B[38;5;28;43mself\u001B[39;49m\u001B[38;5;241;43m.\u001B[39;49m\u001B[43mlake\u001B[49m\u001B[38;5;241;43m.\u001B[39;49m\u001B[43mchat\u001B[49m\u001B[43m(\u001B[49m\u001B[43mquery\u001B[49m\u001B[43m)\u001B[49m\n",
      "File \u001B[0;32m~/project/APUChat/pandasai/smart_datalake/__init__.py:361\u001B[0m, in \u001B[0;36mSmartDatalake.chat\u001B[0;34m(self, query)\u001B[0m\n\u001B[1;32m    357\u001B[0m \u001B[38;5;28mself\u001B[39m\u001B[38;5;241m.\u001B[39mlogger\u001B[38;5;241m.\u001B[39mlog(\u001B[38;5;124mf\u001B[39m\u001B[38;5;124m\"\u001B[39m\u001B[38;5;124mExecuted in: \u001B[39m\u001B[38;5;132;01m{\u001B[39;00mtime\u001B[38;5;241m.\u001B[39mtime()\u001B[38;5;250m \u001B[39m\u001B[38;5;241m-\u001B[39m\u001B[38;5;250m \u001B[39m\u001B[38;5;28mself\u001B[39m\u001B[38;5;241m.\u001B[39m_start_time\u001B[38;5;132;01m}\u001B[39;00m\u001B[38;5;124ms\u001B[39m\u001B[38;5;124m\"\u001B[39m)\n\u001B[1;32m    359\u001B[0m \u001B[38;5;28mself\u001B[39m\u001B[38;5;241m.\u001B[39m_add_result_to_memory(result)\n\u001B[0;32m--> 361\u001B[0m \u001B[38;5;28;01mreturn\u001B[39;00m \u001B[38;5;28;43mself\u001B[39;49m\u001B[38;5;241;43m.\u001B[39;49m\u001B[43m_format_results\u001B[49m\u001B[43m(\u001B[49m\u001B[43mresult\u001B[49m\u001B[43m)\u001B[49m\n",
      "File \u001B[0;32m~/project/APUChat/pandasai/smart_datalake/__init__.py:399\u001B[0m, in \u001B[0;36mSmartDatalake._format_results\u001B[0;34m(self, result)\u001B[0m\n\u001B[1;32m    396\u001B[0m         \u001B[38;5;28;01mif\u001B[39;00m polars_imported:\n\u001B[1;32m    397\u001B[0m             \u001B[38;5;28;01mimport\u001B[39;00m \u001B[38;5;21;01mpolars\u001B[39;00m \u001B[38;5;28;01mas\u001B[39;00m \u001B[38;5;21;01mpl\u001B[39;00m\n\u001B[0;32m--> 399\u001B[0m             df \u001B[38;5;241m=\u001B[39m \u001B[43mpl\u001B[49m\u001B[38;5;241;43m.\u001B[39;49m\u001B[43mfrom_pandas\u001B[49m\u001B[43m(\u001B[49m\u001B[43mdf\u001B[49m\u001B[43m)\u001B[49m\n\u001B[1;32m    401\u001B[0m     \u001B[38;5;28;01mreturn\u001B[39;00m SmartDataframe(\n\u001B[1;32m    402\u001B[0m         df,\n\u001B[1;32m    403\u001B[0m         config\u001B[38;5;241m=\u001B[39m\u001B[38;5;28mself\u001B[39m\u001B[38;5;241m.\u001B[39m_config\u001B[38;5;241m.\u001B[39m\u001B[38;5;18m__dict__\u001B[39m,\n\u001B[1;32m    404\u001B[0m         logger\u001B[38;5;241m=\u001B[39m\u001B[38;5;28mself\u001B[39m\u001B[38;5;241m.\u001B[39mlogger,\n\u001B[1;32m    405\u001B[0m     )\n\u001B[1;32m    406\u001B[0m \u001B[38;5;28;01melif\u001B[39;00m result[\u001B[38;5;124m\"\u001B[39m\u001B[38;5;124mtype\u001B[39m\u001B[38;5;124m\"\u001B[39m] \u001B[38;5;241m==\u001B[39m \u001B[38;5;124m\"\u001B[39m\u001B[38;5;124mplot\u001B[39m\u001B[38;5;124m\"\u001B[39m:\n",
      "File \u001B[0;32m~/project/APUChat/.venv/lib/python3.10/site-packages/polars/convert.py:727\u001B[0m, in \u001B[0;36mfrom_pandas\u001B[0;34m(data, schema_overrides, rechunk, nan_to_null, include_index)\u001B[0m\n\u001B[1;32m    719\u001B[0m     \u001B[38;5;28;01mreturn\u001B[39;00m pl\u001B[38;5;241m.\u001B[39mDataFrame\u001B[38;5;241m.\u001B[39m_from_pandas(\n\u001B[1;32m    720\u001B[0m         data,\n\u001B[1;32m    721\u001B[0m         rechunk\u001B[38;5;241m=\u001B[39mrechunk,\n\u001B[0;32m   (...)\u001B[0m\n\u001B[1;32m    724\u001B[0m         include_index\u001B[38;5;241m=\u001B[39minclude_index,\n\u001B[1;32m    725\u001B[0m     )\n\u001B[1;32m    726\u001B[0m \u001B[38;5;28;01melse\u001B[39;00m:\n\u001B[0;32m--> 727\u001B[0m     \u001B[38;5;28;01mraise\u001B[39;00m \u001B[38;5;167;01mValueError\u001B[39;00m(\u001B[38;5;124mf\u001B[39m\u001B[38;5;124m\"\u001B[39m\u001B[38;5;124mExpected pandas DataFrame or Series, got \u001B[39m\u001B[38;5;132;01m{\u001B[39;00m\u001B[38;5;28mtype\u001B[39m(data)\u001B[38;5;132;01m}\u001B[39;00m\u001B[38;5;124m.\u001B[39m\u001B[38;5;124m\"\u001B[39m)\n",
      "\u001B[0;31mValueError\u001B[0m: Expected pandas DataFrame or Series, got <class 'polars.dataframe.frame.DataFrame'>."
     ]
    }
   ],
   "source": [
    "df = pl.read_csv(\"~/project/APUChat/workspace/data/simulated_transactions.csv\")\n",
    "APU = SmartDataframe(df)\n",
    "response = APU.chat(\"tampilkan 10 baris pertama dari dataset\")\n",
    "response"
   ],
   "metadata": {
    "collapsed": false,
    "ExecuteTime": {
     "end_time": "2023-09-29T13:20:01.191139925Z",
     "start_time": "2023-09-29T13:19:46.925761458Z"
    }
   },
   "id": "fdcd6d624bce821"
  },
  {
   "cell_type": "code",
   "execution_count": null,
   "outputs": [],
   "source": [],
   "metadata": {
    "collapsed": false
   },
   "id": "f37046268397f5f"
  }
 ],
 "metadata": {
  "kernelspec": {
   "display_name": "Python 3",
   "language": "python",
   "name": "python3"
  },
  "language_info": {
   "codemirror_mode": {
    "name": "ipython",
    "version": 2
   },
   "file_extension": ".py",
   "mimetype": "text/x-python",
   "name": "python",
   "nbconvert_exporter": "python",
   "pygments_lexer": "ipython2",
   "version": "2.7.6"
  }
 },
 "nbformat": 4,
 "nbformat_minor": 5
}
