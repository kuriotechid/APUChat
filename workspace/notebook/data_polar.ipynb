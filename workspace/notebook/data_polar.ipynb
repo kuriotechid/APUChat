{
 "cells": [
  {
   "cell_type": "code",
   "execution_count": 16,
   "id": "initial_id",
   "metadata": {
    "collapsed": true,
    "ExecuteTime": {
     "end_time": "2023-09-21T23:21:26.310909193Z",
     "start_time": "2023-09-21T23:21:26.309787396Z"
    }
   },
   "outputs": [],
   "source": [
    "from pandasai import SmartDataframe\n",
    "import polars as pl\n",
    "import pandas as pd"
   ]
  },
  {
   "cell_type": "code",
   "execution_count": 17,
   "outputs": [
    {
     "data": {
      "text/plain": "'The columns in the dataframe are: account_id, transaction_amount, transaction_type, date, receiver_id'"
     },
     "execution_count": 17,
     "metadata": {},
     "output_type": "execute_result"
    }
   ],
   "source": [
    "df = pd.read_csv(\"~/project/APUChat/workspace/data/simulated_transactions.csv\")\n",
    "APU = SmartDataframe(df)\n",
    "response = APU.chat(\"tampilkan daftar seluruh kolom\")\n",
    "response"
   ],
   "metadata": {
    "collapsed": false,
    "ExecuteTime": {
     "end_time": "2023-09-21T23:21:36.030060513Z",
     "start_time": "2023-09-21T23:21:26.716333099Z"
    }
   },
   "id": "fdcd6d624bce821"
  },
  {
   "cell_type": "code",
   "execution_count": null,
   "outputs": [],
   "source": [],
   "metadata": {
    "collapsed": false
   },
   "id": "f37046268397f5f"
  }
 ],
 "metadata": {
  "kernelspec": {
   "display_name": "Python 3",
   "language": "python",
   "name": "python3"
  },
  "language_info": {
   "codemirror_mode": {
    "name": "ipython",
    "version": 2
   },
   "file_extension": ".py",
   "mimetype": "text/x-python",
   "name": "python",
   "nbconvert_exporter": "python",
   "pygments_lexer": "ipython2",
   "version": "2.7.6"
  }
 },
 "nbformat": 4,
 "nbformat_minor": 5
}
