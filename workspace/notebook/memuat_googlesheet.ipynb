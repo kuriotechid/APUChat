{
 "cells": [
  {
   "cell_type": "code",
   "execution_count": 2,
   "id": "initial_id",
   "metadata": {
    "ExecuteTime": {
     "end_time": "2023-09-29T13:48:52.167573469Z",
     "start_time": "2023-09-29T13:48:51.738224839Z"
    }
   },
   "outputs": [
    {
     "ename": "AttributeError",
     "evalue": "'NoneType' object has no attribute 'find_all'",
     "output_type": "error",
     "traceback": [
      "\u001B[0;31m---------------------------------------------------------------------------\u001B[0m",
      "\u001B[0;31mAttributeError\u001B[0m                            Traceback (most recent call last)",
      "Cell \u001B[0;32mIn[2], line 4\u001B[0m\n\u001B[1;32m      2\u001B[0m \u001B[38;5;28;01mimport\u001B[39;00m \u001B[38;5;21;01mpandas\u001B[39;00m \u001B[38;5;28;01mas\u001B[39;00m \u001B[38;5;21;01mpd\u001B[39;00m\n\u001B[1;32m      3\u001B[0m \u001B[38;5;66;03m# memasukan alamat google sheet kedalam dataframe\u001B[39;00m\n\u001B[0;32m----> 4\u001B[0m df \u001B[38;5;241m=\u001B[39m \u001B[43mSmartDataframe\u001B[49m\u001B[43m(\u001B[49m\u001B[38;5;124;43m\"\u001B[39;49m\u001B[38;5;124;43mhttps://docs.google.com/spreadsheets/d/15181bWvSxxNZOHrKlOvy3ut6ZBwDEPaf/edit?usp=sharing&ouid=117785559403828669556&rtpof=true&sd=true\u001B[39;49m\u001B[38;5;124;43m\"\u001B[39;49m\u001B[43m)\u001B[49m\n\u001B[1;32m      5\u001B[0m response \u001B[38;5;241m=\u001B[39m df\u001B[38;5;241m.\u001B[39mchat(\u001B[38;5;124m\"\u001B[39m\u001B[38;5;124mtampilkan 10 baris pertama\u001B[39m\u001B[38;5;124m\"\u001B[39m)\n\u001B[1;32m      6\u001B[0m \u001B[38;5;28mprint\u001B[39m (response)\n",
      "File \u001B[0;32m~/project/APUChat/pandasai/smart_dataframe/__init__.py:296\u001B[0m, in \u001B[0;36mSmartDataframe.__init__\u001B[0;34m(self, df, name, description, sample_head, config, logger)\u001B[0m\n\u001B[1;32m    290\u001B[0m         \u001B[38;5;28;01melse\u001B[39;00m:\n\u001B[1;32m    291\u001B[0m             \u001B[38;5;28;01mraise\u001B[39;00m \u001B[38;5;167;01mValueError\u001B[39;00m(\n\u001B[1;32m    292\u001B[0m                 \u001B[38;5;124m\"\u001B[39m\u001B[38;5;124mCould not find a saved dataframe configuration \u001B[39m\u001B[38;5;124m\"\u001B[39m\n\u001B[1;32m    293\u001B[0m                 \u001B[38;5;124m\"\u001B[39m\u001B[38;5;124mwith the given name.\u001B[39m\u001B[38;5;124m\"\u001B[39m\n\u001B[1;32m    294\u001B[0m             )\n\u001B[0;32m--> 296\u001B[0m \u001B[38;5;28mself\u001B[39m\u001B[38;5;241m.\u001B[39m_core \u001B[38;5;241m=\u001B[39m \u001B[43mSmartDataframeCore\u001B[49m\u001B[43m(\u001B[49m\u001B[43mdf\u001B[49m\u001B[43m,\u001B[49m\u001B[43m \u001B[49m\u001B[43mlogger\u001B[49m\u001B[43m)\u001B[49m\n\u001B[1;32m    298\u001B[0m \u001B[38;5;28mself\u001B[39m\u001B[38;5;241m.\u001B[39m_table_name \u001B[38;5;241m=\u001B[39m name\n\u001B[1;32m    299\u001B[0m \u001B[38;5;28mself\u001B[39m\u001B[38;5;241m.\u001B[39m_table_description \u001B[38;5;241m=\u001B[39m description\n",
      "File \u001B[0;32m~/project/APUChat/pandasai/smart_dataframe/__init__.py:63\u001B[0m, in \u001B[0;36mSmartDataframeCore.__init__\u001B[0;34m(self, df, logger)\u001B[0m\n\u001B[1;32m     61\u001B[0m \u001B[38;5;28;01mdef\u001B[39;00m \u001B[38;5;21m__init__\u001B[39m(\u001B[38;5;28mself\u001B[39m, df: DataFrameType, logger: Logger \u001B[38;5;241m=\u001B[39m \u001B[38;5;28;01mNone\u001B[39;00m):\n\u001B[1;32m     62\u001B[0m     \u001B[38;5;28mself\u001B[39m\u001B[38;5;241m.\u001B[39m_logger \u001B[38;5;241m=\u001B[39m logger\n\u001B[0;32m---> 63\u001B[0m     \u001B[38;5;28;43mself\u001B[39;49m\u001B[38;5;241;43m.\u001B[39;49m\u001B[43m_load_dataframe\u001B[49m\u001B[43m(\u001B[49m\u001B[43mdf\u001B[49m\u001B[43m)\u001B[49m\n",
      "File \u001B[0;32m~/project/APUChat/pandasai/smart_dataframe/__init__.py:79\u001B[0m, in \u001B[0;36mSmartDataframeCore._load_dataframe\u001B[0;34m(self, df)\u001B[0m\n\u001B[1;32m     77\u001B[0m     \u001B[38;5;28mself\u001B[39m\u001B[38;5;241m.\u001B[39m_df_loaded \u001B[38;5;241m=\u001B[39m \u001B[38;5;28;01mFalse\u001B[39;00m\n\u001B[1;32m     78\u001B[0m \u001B[38;5;28;01melif\u001B[39;00m \u001B[38;5;28misinstance\u001B[39m(df, \u001B[38;5;28mstr\u001B[39m):\n\u001B[0;32m---> 79\u001B[0m     \u001B[38;5;28mself\u001B[39m\u001B[38;5;241m.\u001B[39mdataframe \u001B[38;5;241m=\u001B[39m \u001B[38;5;28;43mself\u001B[39;49m\u001B[38;5;241;43m.\u001B[39;49m\u001B[43m_import_from_file\u001B[49m\u001B[43m(\u001B[49m\u001B[43mdf\u001B[49m\u001B[43m)\u001B[49m\n\u001B[1;32m     80\u001B[0m \u001B[38;5;28;01melif\u001B[39;00m \u001B[38;5;28misinstance\u001B[39m(df, pd\u001B[38;5;241m.\u001B[39mSeries):\n\u001B[1;32m     81\u001B[0m     \u001B[38;5;28mself\u001B[39m\u001B[38;5;241m.\u001B[39mdataframe \u001B[38;5;241m=\u001B[39m df\u001B[38;5;241m.\u001B[39mto_frame()\n",
      "File \u001B[0;32m~/project/APUChat/pandasai/smart_dataframe/__init__.py:112\u001B[0m, in \u001B[0;36mSmartDataframeCore._import_from_file\u001B[0;34m(self, file_path)\u001B[0m\n\u001B[1;32m    110\u001B[0m     \u001B[38;5;28;01mreturn\u001B[39;00m pd\u001B[38;5;241m.\u001B[39mread_excel(file_path)\n\u001B[1;32m    111\u001B[0m \u001B[38;5;28;01melif\u001B[39;00m file_path\u001B[38;5;241m.\u001B[39mstartswith(\u001B[38;5;124m\"\u001B[39m\u001B[38;5;124mhttps://docs.google.com/spreadsheets/\u001B[39m\u001B[38;5;124m\"\u001B[39m):\n\u001B[0;32m--> 112\u001B[0m     \u001B[38;5;28;01mreturn\u001B[39;00m \u001B[43mfrom_google_sheets\u001B[49m\u001B[43m(\u001B[49m\u001B[43mfile_path\u001B[49m\u001B[43m)\u001B[49m[\u001B[38;5;241m0\u001B[39m]\n\u001B[1;32m    113\u001B[0m \u001B[38;5;28;01melse\u001B[39;00m:\n\u001B[1;32m    114\u001B[0m     \u001B[38;5;28;01mraise\u001B[39;00m \u001B[38;5;167;01mValueError\u001B[39;00m(\u001B[38;5;124m\"\u001B[39m\u001B[38;5;124mInvalid file format.\u001B[39m\u001B[38;5;124m\"\u001B[39m)\n",
      "File \u001B[0;32m~/project/APUChat/pandasai/helpers/from_google_sheets.py:121\u001B[0m, in \u001B[0;36mfrom_google_sheets\u001B[0;34m(url)\u001B[0m\n\u001B[1;32m    111\u001B[0m \u001B[38;5;28;01mdef\u001B[39;00m \u001B[38;5;21mfrom_google_sheets\u001B[39m(url) \u001B[38;5;241m-\u001B[39m\u001B[38;5;241m>\u001B[39m \u001B[38;5;28mlist\u001B[39m:\n\u001B[1;32m    112\u001B[0m \u001B[38;5;250m    \u001B[39m\u001B[38;5;124;03m\"\"\"\u001B[39;00m\n\u001B[1;32m    113\u001B[0m \u001B[38;5;124;03m    Returns the dataframes that are in a Google sheet.\u001B[39;00m\n\u001B[1;32m    114\u001B[0m \n\u001B[0;32m   (...)\u001B[0m\n\u001B[1;32m    118\u001B[0m \u001B[38;5;124;03m        list: A list of dataframes from the Google Sheet.\u001B[39;00m\n\u001B[1;32m    119\u001B[0m \u001B[38;5;124;03m    \"\"\"\u001B[39;00m\n\u001B[0;32m--> 121\u001B[0m     sheet \u001B[38;5;241m=\u001B[39m \u001B[43mget_google_sheet\u001B[49m\u001B[43m(\u001B[49m\u001B[43murl\u001B[49m\u001B[43m)\u001B[49m\n\u001B[1;32m    122\u001B[0m     dfs \u001B[38;5;241m=\u001B[39m sheet_to_df(sheet)\n\u001B[1;32m    123\u001B[0m     \u001B[38;5;28;01mreturn\u001B[39;00m dfs\n",
      "File \u001B[0;32m~/project/APUChat/pandasai/helpers/from_google_sheets.py:23\u001B[0m, in \u001B[0;36mget_google_sheet\u001B[0;34m(src)\u001B[0m\n\u001B[1;32m     21\u001B[0m soup \u001B[38;5;241m=\u001B[39m BeautifulSoup(raw_html, \u001B[38;5;124m\"\u001B[39m\u001B[38;5;124mhtml.parser\u001B[39m\u001B[38;5;124m\"\u001B[39m)\n\u001B[1;32m     22\u001B[0m table \u001B[38;5;241m=\u001B[39m soup\u001B[38;5;241m.\u001B[39mfind(\u001B[38;5;124m\"\u001B[39m\u001B[38;5;124mtbody\u001B[39m\u001B[38;5;124m\"\u001B[39m)\n\u001B[0;32m---> 23\u001B[0m rows \u001B[38;5;241m=\u001B[39m \u001B[43mtable\u001B[49m\u001B[38;5;241;43m.\u001B[39;49m\u001B[43mfind_all\u001B[49m(\u001B[38;5;124m\"\u001B[39m\u001B[38;5;124mtr\u001B[39m\u001B[38;5;124m\"\u001B[39m)\n\u001B[1;32m     24\u001B[0m grid \u001B[38;5;241m=\u001B[39m []\n\u001B[1;32m     25\u001B[0m \u001B[38;5;28;01mfor\u001B[39;00m row \u001B[38;5;129;01min\u001B[39;00m rows:\n",
      "\u001B[0;31mAttributeError\u001B[0m: 'NoneType' object has no attribute 'find_all'"
     ]
    }
   ],
   "source": [
    "from pandasai import SmartDataframe\n",
    "import pandas as pd\n",
    "# memasukan alamat google sheet kedalam dataframe\n",
    "df = SmartDataframe(\"https://docs.google.com/spreadsheets/d/15181bWvSxxNZOHrKlOvy3ut6ZBwDEPaf/edit?usp=sharing&ouid=117785559403828669556&rtpof=true&sd=true\")\n",
    "response = df.chat(\"tampilkan 10 baris pertama\")\n",
    "print (response)"
   ]
  },
  {
   "cell_type": "code",
   "execution_count": null,
   "outputs": [],
   "source": [],
   "metadata": {
    "collapsed": false
   },
   "id": "30669c68409b7f0e"
  }
 ],
 "metadata": {
  "kernelspec": {
   "display_name": "Python 3 (ipykernel)",
   "language": "python",
   "name": "python3"
  },
  "language_info": {
   "codemirror_mode": {
    "name": "ipython",
    "version": 3
   },
   "file_extension": ".py",
   "mimetype": "text/x-python",
   "name": "python",
   "nbconvert_exporter": "python",
   "pygments_lexer": "ipython3",
   "version": "3.10.11"
  }
 },
 "nbformat": 4,
 "nbformat_minor": 5
}
