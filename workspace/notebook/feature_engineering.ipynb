{
 "cells": [
  {
   "cell_type": "code",
   "execution_count": 1,
   "id": "initial_id",
   "metadata": {
    "collapsed": true,
    "ExecuteTime": {
     "end_time": "2023-10-01T10:59:46.542014836Z",
     "start_time": "2023-10-01T10:59:46.024984005Z"
    }
   },
   "outputs": [],
   "source": [
    "from pandasai import SmartDataframe\n",
    "import pandas as pd\n",
    "# memasukan csv kedalam dataframe\n",
    "df = pd.read_csv(\"~/project/APUChat/workspace/data/data_pencucian_uang.csv\")\n",
    "APU = SmartDataframe(df)"
   ]
  },
  {
   "cell_type": "markdown",
   "source": [
    "### Encoding Data Kategorikal\n",
    "Ubah data pada kolom 'Jenis Transaksi' dan 'Lokasi' menjadi format numerik menggunakan teknik One-Hot Encoding"
   ],
   "metadata": {
    "collapsed": false
   },
   "id": "9646d3b926aeef84"
  },
  {
   "cell_type": "code",
   "execution_count": 3,
   "outputs": [
    {
     "data": {
      "text/plain": "             Nama  Jumlah (Rp) Tanggal Transaksi  Jumlah (USD)  Jenis_Deposit  \\\n0      Pelanggan1   12998016.0        2021-10-06    928.429714              1   \n1      Pelanggan1   11078873.0        2020-03-22    791.348071              0   \n2      Pelanggan7    4950465.0               NaN    353.604643              0   \n3     Pelanggan10   36860206.0        2021-03-04   2632.871857              0   \n4      Pelanggan6   27827845.0        2020-08-31   1987.703214              0   \n...           ...          ...               ...           ...            ...   \n1045   Pelanggan4   39868227.0        2020-01-21   2847.730500              1   \n1046   Pelanggan7   44279228.0        2022-12-14   3162.802000              1   \n1047   Pelanggan6   11977600.0        2022-09-22    855.542857              1   \n1048   Pelanggan8   34127825.0        2020-03-20   2437.701786              0   \n1049  Pelanggan10   16818419.0        2022-03-11   1201.315643              1   \n\n      Jenis_Tarik Tunai  Jenis_Transfer  Lokasi_Bandung  Lokasi_Jakarta  \\\n0                     0               0               0               0   \n1                     0               1               0               0   \n2                     0               1               0               0   \n3                     1               0               0               0   \n4                     0               1               0               0   \n...                 ...             ...             ...             ...   \n1045                  0               0               0               0   \n1046                  0               0               0               0   \n1047                  0               0               0               0   \n1048                  1               0               1               0   \n1049                  0               0               0               0   \n\n      Lokasi_LokasiSalah  Lokasi_Medan  Lokasi_Surabaya  \\\n0                      0             1                0   \n1                      1             0                0   \n2                      0             1                0   \n3                      1             0                0   \n4                      0             0                0   \n...                  ...           ...              ...   \n1045                   0             0                1   \n1046                   0             0                0   \n1047                   0             0                0   \n1048                   0             0                0   \n1049                   0             0                1   \n\n      Lokasi_TidakDiketahui  Lokasi_Yogyakarta  \n0                         0                  0  \n1                         0                  0  \n2                         0                  0  \n3                         0                  0  \n4                         0                  1  \n...                     ...                ...  \n1045                      0                  0  \n1046                      0                  1  \n1047                      1                  0  \n1048                      0                  0  \n1049                      0                  0  \n\n[1050 rows x 14 columns]",
      "text/html": "<div>\n<style scoped>\n    .dataframe tbody tr th:only-of-type {\n        vertical-align: middle;\n    }\n\n    .dataframe tbody tr th {\n        vertical-align: top;\n    }\n\n    .dataframe thead th {\n        text-align: right;\n    }\n</style>\n<table border=\"1\" class=\"dataframe\">\n  <thead>\n    <tr style=\"text-align: right;\">\n      <th></th>\n      <th>Nama</th>\n      <th>Jumlah (Rp)</th>\n      <th>Tanggal Transaksi</th>\n      <th>Jumlah (USD)</th>\n      <th>Jenis_Deposit</th>\n      <th>Jenis_Tarik Tunai</th>\n      <th>Jenis_Transfer</th>\n      <th>Lokasi_Bandung</th>\n      <th>Lokasi_Jakarta</th>\n      <th>Lokasi_LokasiSalah</th>\n      <th>Lokasi_Medan</th>\n      <th>Lokasi_Surabaya</th>\n      <th>Lokasi_TidakDiketahui</th>\n      <th>Lokasi_Yogyakarta</th>\n    </tr>\n  </thead>\n  <tbody>\n    <tr>\n      <th>0</th>\n      <td>Pelanggan1</td>\n      <td>12998016.0</td>\n      <td>2021-10-06</td>\n      <td>928.429714</td>\n      <td>1</td>\n      <td>0</td>\n      <td>0</td>\n      <td>0</td>\n      <td>0</td>\n      <td>0</td>\n      <td>1</td>\n      <td>0</td>\n      <td>0</td>\n      <td>0</td>\n    </tr>\n    <tr>\n      <th>1</th>\n      <td>Pelanggan1</td>\n      <td>11078873.0</td>\n      <td>2020-03-22</td>\n      <td>791.348071</td>\n      <td>0</td>\n      <td>0</td>\n      <td>1</td>\n      <td>0</td>\n      <td>0</td>\n      <td>1</td>\n      <td>0</td>\n      <td>0</td>\n      <td>0</td>\n      <td>0</td>\n    </tr>\n    <tr>\n      <th>2</th>\n      <td>Pelanggan7</td>\n      <td>4950465.0</td>\n      <td>NaN</td>\n      <td>353.604643</td>\n      <td>0</td>\n      <td>0</td>\n      <td>1</td>\n      <td>0</td>\n      <td>0</td>\n      <td>0</td>\n      <td>1</td>\n      <td>0</td>\n      <td>0</td>\n      <td>0</td>\n    </tr>\n    <tr>\n      <th>3</th>\n      <td>Pelanggan10</td>\n      <td>36860206.0</td>\n      <td>2021-03-04</td>\n      <td>2632.871857</td>\n      <td>0</td>\n      <td>1</td>\n      <td>0</td>\n      <td>0</td>\n      <td>0</td>\n      <td>1</td>\n      <td>0</td>\n      <td>0</td>\n      <td>0</td>\n      <td>0</td>\n    </tr>\n    <tr>\n      <th>4</th>\n      <td>Pelanggan6</td>\n      <td>27827845.0</td>\n      <td>2020-08-31</td>\n      <td>1987.703214</td>\n      <td>0</td>\n      <td>0</td>\n      <td>1</td>\n      <td>0</td>\n      <td>0</td>\n      <td>0</td>\n      <td>0</td>\n      <td>0</td>\n      <td>0</td>\n      <td>1</td>\n    </tr>\n    <tr>\n      <th>...</th>\n      <td>...</td>\n      <td>...</td>\n      <td>...</td>\n      <td>...</td>\n      <td>...</td>\n      <td>...</td>\n      <td>...</td>\n      <td>...</td>\n      <td>...</td>\n      <td>...</td>\n      <td>...</td>\n      <td>...</td>\n      <td>...</td>\n      <td>...</td>\n    </tr>\n    <tr>\n      <th>1045</th>\n      <td>Pelanggan4</td>\n      <td>39868227.0</td>\n      <td>2020-01-21</td>\n      <td>2847.730500</td>\n      <td>1</td>\n      <td>0</td>\n      <td>0</td>\n      <td>0</td>\n      <td>0</td>\n      <td>0</td>\n      <td>0</td>\n      <td>1</td>\n      <td>0</td>\n      <td>0</td>\n    </tr>\n    <tr>\n      <th>1046</th>\n      <td>Pelanggan7</td>\n      <td>44279228.0</td>\n      <td>2022-12-14</td>\n      <td>3162.802000</td>\n      <td>1</td>\n      <td>0</td>\n      <td>0</td>\n      <td>0</td>\n      <td>0</td>\n      <td>0</td>\n      <td>0</td>\n      <td>0</td>\n      <td>0</td>\n      <td>1</td>\n    </tr>\n    <tr>\n      <th>1047</th>\n      <td>Pelanggan6</td>\n      <td>11977600.0</td>\n      <td>2022-09-22</td>\n      <td>855.542857</td>\n      <td>1</td>\n      <td>0</td>\n      <td>0</td>\n      <td>0</td>\n      <td>0</td>\n      <td>0</td>\n      <td>0</td>\n      <td>0</td>\n      <td>1</td>\n      <td>0</td>\n    </tr>\n    <tr>\n      <th>1048</th>\n      <td>Pelanggan8</td>\n      <td>34127825.0</td>\n      <td>2020-03-20</td>\n      <td>2437.701786</td>\n      <td>0</td>\n      <td>1</td>\n      <td>0</td>\n      <td>1</td>\n      <td>0</td>\n      <td>0</td>\n      <td>0</td>\n      <td>0</td>\n      <td>0</td>\n      <td>0</td>\n    </tr>\n    <tr>\n      <th>1049</th>\n      <td>Pelanggan10</td>\n      <td>16818419.0</td>\n      <td>2022-03-11</td>\n      <td>1201.315643</td>\n      <td>1</td>\n      <td>0</td>\n      <td>0</td>\n      <td>0</td>\n      <td>0</td>\n      <td>0</td>\n      <td>0</td>\n      <td>1</td>\n      <td>0</td>\n      <td>0</td>\n    </tr>\n  </tbody>\n</table>\n<p>1050 rows × 14 columns</p>\n</div>"
     },
     "execution_count": 3,
     "metadata": {},
     "output_type": "execute_result"
    }
   ],
   "source": [
    "data = APU.chat(\"lakukan encoding pada kolom 'jenis transaksi' dan 'lokasi' menggunakan metode one-hot encoding\")\n",
    "data"
   ],
   "metadata": {
    "collapsed": false,
    "ExecuteTime": {
     "start_time": "2023-10-01T11:10:48.214770451Z"
    }
   },
   "id": "1c49581baea5e0d7"
  },
  {
   "cell_type": "markdown",
   "source": [
    "### Imputasi Nilai Hilang\n",
    "Lengkapi nilai yang hilang pada kolom 'Nama', 'Jenis Transaksi', dan 'Lokasi'. Gunakan strategi imputasi yang sesuai untuk tiap kolom."
   ],
   "metadata": {
    "collapsed": false
   },
   "id": "8e82e9e0ab3b31f5"
  },
  {
   "cell_type": "code",
   "execution_count": 6,
   "outputs": [
    {
     "data": {
      "text/plain": "\"Unfortunately, I was not able to answer your question, because of the following error:\\n\\n'NoneType' object is not subscriptable\\n\""
     },
     "execution_count": 6,
     "metadata": {},
     "output_type": "execute_result"
    }
   ],
   "source": [
    "data_imputed = APU.chat(\"Lakukan imputasi pada kolom 'Nama', 'Jenis Transaksi', dan 'Lokasi' dengan strategi yang paling sesuai\")\n",
    "data_imputed"
   ],
   "metadata": {
    "collapsed": false,
    "ExecuteTime": {
     "end_time": "2023-10-01T11:23:38.115628595Z",
     "start_time": "2023-10-01T11:23:20.268778911Z"
    }
   },
   "id": "6a1b9a68c3022a6a"
  },
  {
   "cell_type": "markdown",
   "source": [
    "### Ekstraksi Informasi Tanggal\n",
    "Ekstrak informasi bulan dan tahun dari kolom 'Tanggal Transaksi' dan simpan sebagai kolom baru pada dataframe"
   ],
   "metadata": {
    "collapsed": false
   },
   "id": "de8000898d39e3b6"
  },
  {
   "cell_type": "code",
   "execution_count": 9,
   "outputs": [
    {
     "data": {
      "text/plain": "'Unfortunately, I was not able to answer your question, because of the following error:\\n\\nUnknown string format: not a date present at position 13\\n'"
     },
     "execution_count": 9,
     "metadata": {},
     "output_type": "execute_result"
    }
   ],
   "source": [
    "data_extracted = APU.chat(\"Ekstrak bulan dan tahun dari kolom 'Tanggal Transaksi' dan buat sebagai kolom baru\")\n",
    "data_extracted"
   ],
   "metadata": {
    "collapsed": false,
    "ExecuteTime": {
     "end_time": "2023-10-01T11:45:59.664017774Z",
     "start_time": "2023-10-01T11:45:43.231956354Z"
    }
   },
   "id": "35b92dd9d5dcf17b"
  },
  {
   "cell_type": "code",
   "execution_count": null,
   "outputs": [],
   "source": [],
   "metadata": {
    "collapsed": false
   },
   "id": "b895fc4aa6fddd94"
  },
  {
   "cell_type": "code",
   "execution_count": null,
   "outputs": [],
   "source": [],
   "metadata": {
    "collapsed": false
   },
   "id": "284f8ac249bec35a"
  }
 ],
 "metadata": {
  "kernelspec": {
   "display_name": "Python 3",
   "language": "python",
   "name": "python3"
  },
  "language_info": {
   "codemirror_mode": {
    "name": "ipython",
    "version": 2
   },
   "file_extension": ".py",
   "mimetype": "text/x-python",
   "name": "python",
   "nbconvert_exporter": "python",
   "pygments_lexer": "ipython2",
   "version": "2.7.6"
  }
 },
 "nbformat": 4,
 "nbformat_minor": 5
}
