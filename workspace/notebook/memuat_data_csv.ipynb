{
 "cells": [
  {
   "cell_type": "code",
   "execution_count": 4,
   "id": "initial_id",
   "metadata": {
    "ExecuteTime": {
     "end_time": "2023-09-21T22:51:19.348099036Z",
     "start_time": "2023-09-21T22:51:19.306860464Z"
    }
   },
   "outputs": [],
   "source": [
    "from pandasai import SmartDataframe\n",
    "import pandas as pd\n",
    "# memasukan csv kedalam dataframe\n",
    "df = pd.read_csv(\"~/project/APUChat/workspace/data/simulated_transactions.csv\")\n",
    "APU = SmartDataframe(df)"
   ]
  },
  {
   "cell_type": "code",
   "execution_count": 5,
   "id": "e830d17a55be0736",
   "metadata": {
    "collapsed": false,
    "ExecuteTime": {
     "end_time": "2023-09-21T22:51:42.096917766Z",
     "start_time": "2023-09-21T22:51:21.934605785Z"
    }
   },
   "outputs": [
    {
     "data": {
      "text/plain": "   account_id  transaction_amount transaction_type                date  \\\n0       28526             1783729          setoran 2023-09-13 05:48:12   \n\n   receiver_id  \n0        34109  ",
      "text/html": "<div>\n<style scoped>\n    .dataframe tbody tr th:only-of-type {\n        vertical-align: middle;\n    }\n\n    .dataframe tbody tr th {\n        vertical-align: top;\n    }\n\n    .dataframe thead th {\n        text-align: right;\n    }\n</style>\n<table border=\"1\" class=\"dataframe\">\n  <thead>\n    <tr style=\"text-align: right;\">\n      <th></th>\n      <th>account_id</th>\n      <th>transaction_amount</th>\n      <th>transaction_type</th>\n      <th>date</th>\n      <th>receiver_id</th>\n    </tr>\n  </thead>\n  <tbody>\n    <tr>\n      <th>0</th>\n      <td>28526</td>\n      <td>1783729</td>\n      <td>setoran</td>\n      <td>2023-09-13 05:48:12</td>\n      <td>34109</td>\n    </tr>\n  </tbody>\n</table>\n</div>"
     },
     "execution_count": 5,
     "metadata": {},
     "output_type": "execute_result"
    }
   ],
   "source": [
    "response  = APU.chat(\"tampilkan transaksi yang dilakukan diatas jam 12 malam\")\n",
    "response_paling_malam = response.chat(\"tampilkan yang paling malam\")\n",
    "response_paling_malam"
   ]
  },
  {
   "cell_type": "code",
   "execution_count": null,
   "outputs": [],
   "source": [],
   "metadata": {
    "collapsed": false
   },
   "id": "fc9a517455c3bd50"
  }
 ],
 "metadata": {
  "kernelspec": {
   "display_name": "Python 3 (ipykernel)",
   "language": "python",
   "name": "python3"
  },
  "language_info": {
   "codemirror_mode": {
    "name": "ipython",
    "version": 3
   },
   "file_extension": ".py",
   "mimetype": "text/x-python",
   "name": "python",
   "nbconvert_exporter": "python",
   "pygments_lexer": "ipython3",
   "version": "3.10.11"
  }
 },
 "nbformat": 4,
 "nbformat_minor": 5
}
