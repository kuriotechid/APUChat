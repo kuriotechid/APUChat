{
 "cells": [
  {
   "cell_type": "code",
   "execution_count": 8,
   "id": "initial_id",
   "metadata": {
    "collapsed": true,
    "ExecuteTime": {
     "end_time": "2023-09-21T05:46:01.988579440Z",
     "start_time": "2023-09-21T05:46:01.945069386Z"
    }
   },
   "outputs": [],
   "source": [
    "from pandasai import SmartDataframe\n",
    "# memasukan csv kedalam dataframe\n",
    "\n",
    "APU = SmartDataframe(\"~/project/APUChat/workspace/data/simulated_transactions.csv\")"
   ]
  },
  {
   "cell_type": "code",
   "execution_count": 11,
   "outputs": [
    {
     "data": {
      "text/plain": "     account_id  transaction_amount transaction_type                date  \\\n529       43256             1406519          setoran 2023-09-09 00:16:12   \n\n     receiver_id  \n529        25677  ",
      "text/html": "<div>\n<style scoped>\n    .dataframe tbody tr th:only-of-type {\n        vertical-align: middle;\n    }\n\n    .dataframe tbody tr th {\n        vertical-align: top;\n    }\n\n    .dataframe thead th {\n        text-align: right;\n    }\n</style>\n<table border=\"1\" class=\"dataframe\">\n  <thead>\n    <tr style=\"text-align: right;\">\n      <th></th>\n      <th>account_id</th>\n      <th>transaction_amount</th>\n      <th>transaction_type</th>\n      <th>date</th>\n      <th>receiver_id</th>\n    </tr>\n  </thead>\n  <tbody>\n    <tr>\n      <th>529</th>\n      <td>43256</td>\n      <td>1406519</td>\n      <td>setoran</td>\n      <td>2023-09-09 00:16:12</td>\n      <td>25677</td>\n    </tr>\n  </tbody>\n</table>\n</div>"
     },
     "execution_count": 11,
     "metadata": {},
     "output_type": "execute_result"
    }
   ],
   "source": [
    "response  = APU.chat(\"tampilkan transaksi ayng dilakukan pada jam 12 malam\")\n",
    "response_paling_malam = response.chat(\"tampilkan yang paling malam\")\n",
    "response_paling_malam"
   ],
   "metadata": {
    "collapsed": false,
    "ExecuteTime": {
     "end_time": "2023-09-21T05:49:02.593091165Z",
     "start_time": "2023-09-21T05:49:02.551498488Z"
    }
   },
   "id": "e830d17a55be0736"
  },
  {
   "cell_type": "code",
   "execution_count": null,
   "outputs": [],
   "source": [
    " "
   ],
   "metadata": {
    "collapsed": false
   },
   "id": "4c751854c92e934c"
  }
 ],
 "metadata": {
  "kernelspec": {
   "display_name": "Python 3",
   "language": "python",
   "name": "python3"
  },
  "language_info": {
   "codemirror_mode": {
    "name": "ipython",
    "version": 2
   },
   "file_extension": ".py",
   "mimetype": "text/x-python",
   "name": "python",
   "nbconvert_exporter": "python",
   "pygments_lexer": "ipython2",
   "version": "2.7.6"
  }
 },
 "nbformat": 4,
 "nbformat_minor": 5
}
