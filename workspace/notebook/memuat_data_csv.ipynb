{
 "cells": [
  {
   "cell_type": "code",
   "execution_count": null,
   "id": "initial_id",
   "metadata": {},
   "outputs": [],
   "source": [
    "from pandasai import SmartDataframe\n",
    "import pandas as pd\n",
    "# memasukan csv kedalam dataframe\n",
    "df = pd.read_csv(\"~/project/APUChat/workspace/data/simulated_transactions.csv\")\n",
    "APU = SmartDataframe(df)"
   ]
  },
  {
   "cell_type": "code",
   "execution_count": null,
   "id": "e830d17a55be0736",
   "metadata": {
    "collapsed": false
   },
   "outputs": [],
   "source": [
    "response  = APU.chat(\"tampilkan transaksi yang dilakukan diatas jam 12 malam\")\n",
    "response_paling_malam = response.chat(\"tampilkan yang paling malam\")\n",
    "response_paling_malam"
   ]
  },
  {
   "cell_type": "code",
   "execution_count": null,
   "outputs": [],
   "source": [],
   "metadata": {
    "collapsed": false
   },
   "id": "fc9a517455c3bd50"
  }
 ],
 "metadata": {
  "kernelspec": {
   "display_name": "Python 3 (ipykernel)",
   "language": "python",
   "name": "python3"
  },
  "language_info": {
   "codemirror_mode": {
    "name": "ipython",
    "version": 3
   },
   "file_extension": ".py",
   "mimetype": "text/x-python",
   "name": "python",
   "nbconvert_exporter": "python",
   "pygments_lexer": "ipython3",
   "version": "3.10.11"
  }
 },
 "nbformat": 4,
 "nbformat_minor": 5
}
