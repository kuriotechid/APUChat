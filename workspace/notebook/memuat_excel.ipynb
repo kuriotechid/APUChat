{
 "cells": [
  {
   "cell_type": "code",
   "execution_count": 15,
   "id": "initial_id",
   "metadata": {
    "ExecuteTime": {
     "end_time": "2023-09-29T13:40:04.261797096Z",
     "start_time": "2023-09-29T13:39:48.288900030Z"
    }
   },
   "outputs": [
    {
     "name": "stdout",
     "output_type": "stream",
     "text": [
      " Unnamed: 0        Nama Jenis Transaksi  Jumlah (Rp) Tanggal Transaksi         Lokasi  Jumlah (USD)\n",
      "          0  Pelanggan1         Deposit   12998016.0        2021-10-06          Medan    928.429714\n",
      "          1  Pelanggan1        Transfer   11078873.0        2020-03-22    LokasiSalah    791.348071\n",
      "          2  Pelanggan7        Transfer    4950465.0               NaN          Medan    353.604643\n",
      "          3 Pelanggan10     Tarik Tunai   36860206.0        2021-03-04    LokasiSalah   2632.871857\n",
      "          4  Pelanggan6        Transfer   27827845.0        2020-08-31     Yogyakarta   1987.703214\n",
      "          5  Pelanggan5         Deposit          NaN        2021-04-09          Medan           NaN\n",
      "          6  Pelanggan8     Tarik Tunai   28278140.0        2022-11-09        Bandung   2019.867143\n",
      "          7  Pelanggan2             NaN    5235981.0        2022-08-08    LokasiSalah    373.998643\n",
      "          8  Pelanggan9         Deposit   29644498.0        2020-03-15 TidakDiketahui   2117.464143\n",
      "          9  Pelanggan3     Tarik Tunai   30957797.0        2022-02-18 TidakDiketahui   2211.271214\n"
     ]
    }
   ],
   "source": [
    "from pandasai import SmartDataframe\n",
    "import pandas as pd\n",
    "# memasukan excel kedalam dataframe\n",
    "df = SmartDataframe(\"~/project/APUChat/workspace/data/data_pencucian_uang.xlsx\")\n",
    "response = df.chat(\"tampilkan 10 baris pertama\")\n",
    "print (response)"
   ]
  }
 ],
 "metadata": {
  "kernelspec": {
   "display_name": "Python 3 (ipykernel)",
   "language": "python",
   "name": "python3"
  },
  "language_info": {
   "codemirror_mode": {
    "name": "ipython",
    "version": 3
   },
   "file_extension": ".py",
   "mimetype": "text/x-python",
   "name": "python",
   "nbconvert_exporter": "python",
   "pygments_lexer": "ipython3",
   "version": "3.10.11"
  }
 },
 "nbformat": 4,
 "nbformat_minor": 5
}
