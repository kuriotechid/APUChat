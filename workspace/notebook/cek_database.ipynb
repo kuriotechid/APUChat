{
 "cells": [
  {
   "cell_type": "code",
   "execution_count": 2,
   "id": "dc916f6e-28fc-468d-b917-58f2cc819042",
   "metadata": {},
   "outputs": [
    {
     "name": "stdout",
     "output_type": "stream",
     "text": [
      "8.3.0\n"
     ]
    }
   ],
   "source": [
    "import cx_Oracle\n",
    "print(cx_Oracle.__version__)"
   ]
  },
  {
   "cell_type": "code",
   "execution_count": 3,
   "id": "e5950a50-6701-4718-9027-c816b2148044",
   "metadata": {},
   "outputs": [
    {
     "name": "stdout",
     "output_type": "stream",
     "text": [
      "Gagal terhubung ke database Oracle. Kesalahan: DPI-1047: Cannot locate a 64-bit Oracle Client library: \"libclntsh.so: cannot open shared object file: No such file or directory\". See https://cx-oracle.readthedocs.io/en/latest/user_guide/installation.html for help\n"
     ]
    }
   ],
   "source": [
    "import cx_Oracle\n",
    "\n",
    "def check_oracle_connection(ip_address, port, service_name, username, password):\n",
    "    # Membuat string koneksi\n",
    "    dsn_tns = cx_Oracle.makedsn(ip_address, port, service_name=service_name)\n",
    "    \n",
    "    try:\n",
    "        # Mencoba terhubung ke database\n",
    "        connection = cx_Oracle.connect(user=username, password=password, dsn=dsn_tns)\n",
    "        \n",
    "        # Jika berhasil terhubung, tutup koneksi dan kembalikan pesan sukses\n",
    "        connection.close()\n",
    "        return \"Berhasil terhubung ke database Oracle!\"\n",
    "    except cx_Oracle.DatabaseError as e:\n",
    "        # Jika terjadi kesalahan, kembalikan pesan kesalahan\n",
    "        return f\"Gagal terhubung ke database Oracle. Kesalahan: {e}\"\n",
    "\n",
    "# Ganti dengan informasi koneksi Anda\n",
    "ip_address = '192.168.30.134'\n",
    "port = '1521'\n",
    "service_name = 'Miranda'\n",
    "username = 'sipesat'\n",
    "password = 'sipesat'\n",
    "\n",
    "# Cek koneksi\n",
    "result = check_oracle_connection(ip_address, port, service_name, username, password)\n",
    "print(result)\n"
   ]
  },
  {
   "cell_type": "code",
   "execution_count": null,
   "id": "e265df88-0a7d-4045-b55c-86d473af696b",
   "metadata": {},
   "outputs": [],
   "source": []
  }
 ],
 "metadata": {
  "kernelspec": {
   "display_name": "Python 3 (ipykernel)",
   "language": "python",
   "name": "python3"
  },
  "language_info": {
   "codemirror_mode": {
    "name": "ipython",
    "version": 3
   },
   "file_extension": ".py",
   "mimetype": "text/x-python",
   "name": "python",
   "nbconvert_exporter": "python",
   "pygments_lexer": "ipython3",
   "version": "3.10.11"
  }
 },
 "nbformat": 4,
 "nbformat_minor": 5
}
