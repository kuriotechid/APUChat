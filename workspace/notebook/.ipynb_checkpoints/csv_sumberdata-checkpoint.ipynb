{
 "cells": [
  {
   "cell_type": "code",
   "execution_count": 1,
   "id": "88a55220-1a22-474f-ad15-0dcb906af52a",
   "metadata": {},
   "outputs": [
    {
     "ename": "NameError",
     "evalue": "name 'Smartdataframe' is not defined",
     "output_type": "error",
     "traceback": [
      "\u001b[0;31m---------------------------------------------------------------------------\u001b[0m",
      "\u001b[0;31mNameError\u001b[0m                                 Traceback (most recent call last)",
      "Cell \u001b[0;32mIn[1], line 4\u001b[0m\n\u001b[1;32m      1\u001b[0m \u001b[38;5;28;01mfrom\u001b[39;00m \u001b[38;5;21;01mpandasai\u001b[39;00m \u001b[38;5;28;01mimport\u001b[39;00m SmartDataframe\n\u001b[1;32m      3\u001b[0m \u001b[38;5;66;03m# memasukan csv kedalam dataframe\u001b[39;00m\n\u001b[0;32m----> 4\u001b[0m APU \u001b[38;5;241m=\u001b[39m \u001b[43mSmartdataframe\u001b[49m(\u001b[38;5;124m\"\u001b[39m\u001b[38;5;124mdata/simulated_transactions.csv\u001b[39m\u001b[38;5;124m\"\u001b[39m)\n\u001b[1;32m      6\u001b[0m APU\u001b[38;5;241m.\u001b[39mchat(\u001b[38;5;124m\"\u001b[39m\u001b[38;5;124mtampilkan transaksi yang dilakukan pada jam 12 malam?\u001b[39m\u001b[38;5;124m\"\u001b[39m)\n\u001b[1;32m      7\u001b[0m \u001b[38;5;28mprint\u001b[39m(response)\n",
      "\u001b[0;31mNameError\u001b[0m: name 'Smartdataframe' is not defined"
     ]
    }
   ],
   "source": [
    "from pandasai import SmartDataframe\n",
    "\n",
    "# memasukan csv kedalam dataframe\n",
    "APU = Smartdataframe(\"data/simulated_transactions.csv\")\n",
    "\n",
    "APU.chat(\"tampilkan transaksi yang dilakukan pada jam 12 malam?\")\n",
    "print(response)\n"
   ]
  },
  {
   "cell_type": "code",
   "execution_count": null,
   "id": "c867916e-eb0f-4d3b-a755-1bb17744b3ca",
   "metadata": {},
   "outputs": [],
   "source": []
  }
 ],
 "metadata": {
  "kernelspec": {
   "display_name": "Python 3 (ipykernel)",
   "language": "python",
   "name": "python3"
  },
  "language_info": {
   "codemirror_mode": {
    "name": "ipython",
    "version": 3
   },
   "file_extension": ".py",
   "mimetype": "text/x-python",
   "name": "python",
   "nbconvert_exporter": "python",
   "pygments_lexer": "ipython3",
   "version": "3.10.11"
  }
 },
 "nbformat": 4,
 "nbformat_minor": 5
}
