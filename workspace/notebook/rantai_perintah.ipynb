{
 "cells": [
  {
   "cell_type": "code",
   "execution_count": null,
   "id": "initial_id",
   "metadata": {},
   "outputs": [],
   "source": [
    "from pandasai import SmartDataframe\n",
    "# memasukan csv kedalam dataframe\n",
    "APU = SmartDataframe(\"~/project/APUChat/workspace/data/data_pencucian_uang.csv\")"
   ]
  },
  {
   "cell_type": "code",
   "execution_count": null,
   "id": "f4dc0a51214b190",
   "metadata": {
    "collapsed": false
   },
   "outputs": [],
   "source": [
    "# menampilkan kesuluruhan baris data yang memiliki nilai duplikat \n",
    "data_duplikat = APU.chat(\"tampilkan baris data yang dupikat\")\n",
    "data_duplikat_nilai_kosong = data_duplikat.chat(\"tampilkan baris data yang memiliki nilai kosong\")\n",
    "data_duplikat_nilai_kosong"
   ]
  },
  {
   "cell_type": "code",
   "execution_count": null,
   "id": "e8039155988ef9fb",
   "metadata": {
    "collapsed": false
   },
   "outputs": [],
   "source": [
    "lokasi = APU.chat(\"tampilkan baris data yang kolom lokasi tidak diisi\")"
   ]
  },
  {
   "cell_type": "code",
   "execution_count": null,
   "id": "595395fdcbb3eb3c",
   "metadata": {
    "collapsed": false
   },
   "outputs": [],
   "source": [
    "lokasi_update = lokasi.chat(\"Isi nilai yang hilang pada kolom lokasi dengan nilai 'Tidak Diketahui' \")\n",
    "lokasi_update"
   ]
  },
  {
   "cell_type": "code",
   "execution_count": null,
   "id": "b7d9456710f47406",
   "metadata": {
    "collapsed": false
   },
   "outputs": [],
   "source": []
  }
 ],
 "metadata": {
  "kernelspec": {
   "display_name": "Python 3 (ipykernel)",
   "language": "python",
   "name": "python3"
  },
  "language_info": {
   "codemirror_mode": {
    "name": "ipython",
    "version": 3
   },
   "file_extension": ".py",
   "mimetype": "text/x-python",
   "name": "python",
   "nbconvert_exporter": "python",
   "pygments_lexer": "ipython3",
   "version": "3.11.5"
  }
 },
 "nbformat": 4,
 "nbformat_minor": 5
}
