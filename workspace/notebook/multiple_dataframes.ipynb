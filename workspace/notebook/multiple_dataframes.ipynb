{
 "cells": [
  {
   "cell_type": "code",
   "execution_count": 3,
   "id": "initial_id",
   "metadata": {
    "ExecuteTime": {
     "end_time": "2023-09-29T14:02:37.333902489Z",
     "start_time": "2023-09-29T14:02:23.773674090Z"
    }
   },
   "outputs": [
    {
     "data": {
      "text/plain": "                             2\nTransactionID                4\nCustomerID                C004\nAmount                    7000\nTransactionType        Deposit\nTransactionDate     2023-09-28\nSourceAccount            SA004\nDestinationAccount       DA004",
      "text/html": "<div>\n<style scoped>\n    .dataframe tbody tr th:only-of-type {\n        vertical-align: middle;\n    }\n\n    .dataframe tbody tr th {\n        vertical-align: top;\n    }\n\n    .dataframe thead th {\n        text-align: right;\n    }\n</style>\n<table border=\"1\" class=\"dataframe\">\n  <thead>\n    <tr style=\"text-align: right;\">\n      <th></th>\n      <th>2</th>\n    </tr>\n  </thead>\n  <tbody>\n    <tr>\n      <th>TransactionID</th>\n      <td>4</td>\n    </tr>\n    <tr>\n      <th>CustomerID</th>\n      <td>C004</td>\n    </tr>\n    <tr>\n      <th>Amount</th>\n      <td>7000</td>\n    </tr>\n    <tr>\n      <th>TransactionType</th>\n      <td>Deposit</td>\n    </tr>\n    <tr>\n      <th>TransactionDate</th>\n      <td>2023-09-28</td>\n    </tr>\n    <tr>\n      <th>SourceAccount</th>\n      <td>SA004</td>\n    </tr>\n    <tr>\n      <th>DestinationAccount</th>\n      <td>DA004</td>\n    </tr>\n  </tbody>\n</table>\n</div>"
     },
     "execution_count": 3,
     "metadata": {},
     "output_type": "execute_result"
    }
   ],
   "source": [
    "from pandasai import SmartDatalake\n",
    "import pandas as pd\n",
    "\n",
    "# Data untuk transaksi deposit\n",
    "deposit_data = {\n",
    "    'TransactionID': [1, 3, 4],\n",
    "    'CustomerID': ['C001', 'C003', 'C004'],\n",
    "    'Amount': [2000, 3000, 7000],\n",
    "    'TransactionType': ['Deposit', 'Deposit', 'Deposit'],\n",
    "    'TransactionDate': ['2023-09-25', '2023-09-27', '2023-09-28'],\n",
    "    'SourceAccount': ['SA001', 'SA003', 'SA004'],\n",
    "    'DestinationAccount': ['DA001', 'DA003', 'DA004']\n",
    "}\n",
    "\n",
    "# Data untuk transaksi penarikan\n",
    "withdrawal_data = {\n",
    "    'TransactionID': [2, 5],\n",
    "    'CustomerID': ['C002', 'C005'],\n",
    "    'Amount': [15000, 50000],\n",
    "    'TransactionType': ['Withdrawal', 'Withdrawal'],\n",
    "    'TransactionDate': ['2023-09-26', '2023-09-29'],\n",
    "    'SourceAccount': ['SA002', 'SA005'],\n",
    "    'DestinationAccount': ['DA002', 'DA005']\n",
    "}\n",
    "\n",
    "# Buat DataFrame dari data deposit dan penarikan\n",
    "deposit_df = pd.DataFrame(deposit_data)\n",
    "withdrawal_df = pd.DataFrame(withdrawal_data)\n",
    "\n",
    "# Masukkan DataFrame ke SmartDatalake dan buat permintaan\n",
    "df = SmartDatalake([deposit_df, withdrawal_df])\n",
    "response = df.chat(\"Tunjukkan transaksi setoran dengan jumlah tertinggi.\")\n",
    "response\n"
   ]
  },
  {
   "cell_type": "code",
   "execution_count": null,
   "outputs": [],
   "source": [],
   "metadata": {
    "collapsed": false
   },
   "id": "8483ac72015c6d2f"
  }
 ],
 "metadata": {
  "kernelspec": {
   "display_name": "Python 3 (ipykernel)",
   "language": "python",
   "name": "python3"
  },
  "language_info": {
   "codemirror_mode": {
    "name": "ipython",
    "version": 3
   },
   "file_extension": ".py",
   "mimetype": "text/x-python",
   "name": "python",
   "nbconvert_exporter": "python",
   "pygments_lexer": "ipython3",
   "version": "3.10.11"
  }
 },
 "nbformat": 4,
 "nbformat_minor": 5
}
