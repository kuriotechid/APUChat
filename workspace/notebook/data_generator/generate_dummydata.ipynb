{
 "cells": [
  {
   "cell_type": "markdown",
   "id": "4a11b36e-710c-40dd-bce9-59da57023c34",
   "metadata": {},
   "source": [
    "### sintesis data money laundry"
   ]
  },
  {
   "cell_type": "code",
   "execution_count": 3,
   "id": "918672d9-ece9-463b-b36d-7fd2eaf2a40e",
   "metadata": {},
   "outputs": [
    {
     "data": {
      "text/html": [
       "<div>\n",
       "<style scoped>\n",
       "    .dataframe tbody tr th:only-of-type {\n",
       "        vertical-align: middle;\n",
       "    }\n",
       "\n",
       "    .dataframe tbody tr th {\n",
       "        vertical-align: top;\n",
       "    }\n",
       "\n",
       "    .dataframe thead th {\n",
       "        text-align: right;\n",
       "    }\n",
       "</style>\n",
       "<table border=\"1\" class=\"dataframe\">\n",
       "  <thead>\n",
       "    <tr style=\"text-align: right;\">\n",
       "      <th></th>\n",
       "      <th>account_id</th>\n",
       "      <th>transaction_amount</th>\n",
       "      <th>transaction_type</th>\n",
       "      <th>date</th>\n",
       "      <th>receiver_id</th>\n",
       "    </tr>\n",
       "  </thead>\n",
       "  <tbody>\n",
       "    <tr>\n",
       "      <th>0</th>\n",
       "      <td>10476</td>\n",
       "      <td>283686</td>\n",
       "      <td>setoran</td>\n",
       "      <td>2023-07-18 21:22:12</td>\n",
       "      <td>67262</td>\n",
       "    </tr>\n",
       "    <tr>\n",
       "      <th>1</th>\n",
       "      <td>63171</td>\n",
       "      <td>749129</td>\n",
       "      <td>setoran</td>\n",
       "      <td>2023-08-03 06:54:12</td>\n",
       "      <td>44221</td>\n",
       "    </tr>\n",
       "    <tr>\n",
       "      <th>2</th>\n",
       "      <td>24266</td>\n",
       "      <td>1895621</td>\n",
       "      <td>setoran</td>\n",
       "      <td>2023-09-08 01:43:12</td>\n",
       "      <td>45800</td>\n",
       "    </tr>\n",
       "    <tr>\n",
       "      <th>3</th>\n",
       "      <td>61208</td>\n",
       "      <td>1297116</td>\n",
       "      <td>penarikan</td>\n",
       "      <td>2023-07-19 17:26:12</td>\n",
       "      <td>46132</td>\n",
       "    </tr>\n",
       "    <tr>\n",
       "      <th>4</th>\n",
       "      <td>93352</td>\n",
       "      <td>134309</td>\n",
       "      <td>penarikan</td>\n",
       "      <td>2023-08-04 09:46:12</td>\n",
       "      <td>11688</td>\n",
       "    </tr>\n",
       "  </tbody>\n",
       "</table>\n",
       "</div>"
      ],
      "text/plain": [
       "   account_id  transaction_amount transaction_type                 date  \\\n",
       "0       10476              283686          setoran  2023-07-18 21:22:12   \n",
       "1       63171              749129          setoran  2023-08-03 06:54:12   \n",
       "2       24266             1895621          setoran  2023-09-08 01:43:12   \n",
       "3       61208             1297116        penarikan  2023-07-19 17:26:12   \n",
       "4       93352              134309        penarikan  2023-08-04 09:46:12   \n",
       "\n",
       "   receiver_id  \n",
       "0        67262  \n",
       "1        44221  \n",
       "2        45800  \n",
       "3        46132  \n",
       "4        11688  "
      ]
     },
     "execution_count": 3,
     "metadata": {},
     "output_type": "execute_result"
    }
   ],
   "source": [
    "import pandas as pd\n",
    "import random\n",
    "from datetime import datetime, timedelta\n",
    "\n",
    "# Jumlah sampel transaksi\n",
    "n_samples = 1000\n",
    "\n",
    "# Membuat data simulasi\n",
    "data = {\n",
    "    \"account_id\": [random.randint(10000, 99999) for _ in range(n_samples)],\n",
    "    \"transaction_amount\": [random.randint(100000, 2000000) for _ in range(n_samples)],  # Jumlah kecil (100.000 - 2.000.000 IDR)\n",
    "    \"transaction_type\": [\"setoran\" if random.random() > 0.5 else \"penarikan\" for _ in range(n_samples)],\n",
    "    \"date\": [(datetime.now() - timedelta(days=random.randint(0, 60), hours=random.randint(0, 24), minutes=random.randint(0, 60))).strftime('%Y-%m-%d %H:%M:%S') for _ in range(n_samples)],\n",
    "    \"receiver_id\": [random.randint(10000, 99999) for _ in range(n_samples)],\n",
    "}\n",
    "\n",
    "# Membuat dataframe\n",
    "df = pd.DataFrame(data)\n",
    "\n",
    "# Menyimpan ke CSV\n",
    "df.to_csv(\"/home/dfai/project/APUChat/workspace/data/simulated_transactions.csv\", index=False)\n",
    "\n",
    "df.head()\n"
   ]
  },
  {
   "cell_type": "code",
   "execution_count": null,
   "id": "a51ffb1b-150c-4f81-8811-b4524c619bb7",
   "metadata": {},
   "outputs": [],
   "source": []
  }
 ],
 "metadata": {
  "kernelspec": {
   "display_name": "Python 3 (ipykernel)",
   "language": "python",
   "name": "python3"
  },
  "language_info": {
   "codemirror_mode": {
    "name": "ipython",
    "version": 3
   },
   "file_extension": ".py",
   "mimetype": "text/x-python",
   "name": "python",
   "nbconvert_exporter": "python",
   "pygments_lexer": "ipython3",
   "version": "3.10.11"
  }
 },
 "nbformat": 4,
 "nbformat_minor": 5
}
