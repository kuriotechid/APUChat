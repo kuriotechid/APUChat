{
 "cells": [
  {
   "cell_type": "code",
   "execution_count": 1,
   "id": "47953813-e21d-4d72-a17b-eb7f6c4d870b",
   "metadata": {},
   "outputs": [
    {
     "name": "stdout",
     "output_type": "stream",
     "text": [
      "  provinsi       bank  account_id  transaction_amount transaction_type  \\\n",
      "9     Aceh  OCBC NISP       12340          1000000000          setoran   \n",
      "\n",
      "         date  \n",
      "9  2023-02-01  \n"
     ]
    }
   ],
   "source": [
    "from pandasai import SmartDataframe\n",
    "import pandas as pd\n",
    "\n",
    "# pandas dataframe\n",
    "df = pd.DataFrame({\n",
    "    \"provinsi\": [\"DKI Jakarta\", \"Jawa Barat\", \"Jawa Tengah\", \"Jawa Timur\", \"Sumatera Utara\", \"Bali\", \"Sulawesi Selatan\", \"Kalimantan Timur\", \"Papua\", \"Aceh\"],\n",
    "    \"bank\": [\"BCA\", \"Mandiri\", \"BRI\", \"BNI\", \"CIMB Niaga\", \"Maybank\", \"Bank Mega\", \"Panin Bank\", \"PermataBank\", \"OCBC NISP\"],\n",
    "    \"account_id\": [12345, 23456, 34567, 45678, 56789, 67890, 78901, 89012, 90123, 12340],\n",
    "    \"transaction_amount\": [10000000, 50000000, 2500000, 5000000, 100000000, 500000000, 250000000, 1000000, 20000000, 1000000000],\n",
    "    \"transaction_type\": [\"penarikan\", \"setoran\", \"penarikan\", \"penarikan\", \"setoran\", \"setoran\", \"penarikan\", \"setoran\", \"penarikan\", \"setoran\"],\n",
    "    \"date\": [\"2023-01-10\", \"2023-01-15\", \"2023-01-16\", \"2023-01-17\", \"2023-01-20\", \"2023-01-21\", \"2023-01-22\", \"2023-01-25\", \"2023-01-30\", \"2023-02-01\"]\n",
    "})\n",
    "\n",
    "# convert to SmartDataframe\n",
    "APU = SmartDataframe(df)\n",
    "\n",
    "response = APU.chat('Tampilkan transaksi dengan nilai terbesar')\n",
    "print(response)\n"
   ]
  },
  {
   "cell_type": "code",
   "execution_count": null,
   "id": "b4ffdb72-3e02-40e5-90f8-71cadaae0a48",
   "metadata": {},
   "outputs": [],
   "source": []
  }
 ],
 "metadata": {
  "kernelspec": {
   "display_name": "Python 3 (ipykernel)",
   "language": "python",
   "name": "python3"
  },
  "language_info": {
   "codemirror_mode": {
    "name": "ipython",
    "version": 3
   },
   "file_extension": ".py",
   "mimetype": "text/x-python",
   "name": "python",
   "nbconvert_exporter": "python",
   "pygments_lexer": "ipython3",
   "version": "3.10.11"
  }
 },
 "nbformat": 4,
 "nbformat_minor": 5
}
